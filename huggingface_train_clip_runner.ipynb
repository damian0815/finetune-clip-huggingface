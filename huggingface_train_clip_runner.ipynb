{
 "cells": [
  {
   "cell_type": "markdown",
   "id": "fa31481d",
   "metadata": {},
   "source": [
    "# CLIP training using HuggingFace libs\n",
    "\n",
    "This notebook demonstrates how to finetune the CLIP model that was used for Stable Diffusion v1.4-1.5 (`clip-vit-large-patch14-336` aka `ViT-L/14@336px`) using a local dataset stored as `.jpg/.jpeg` and `.txt` file pairs."
   ]
  },
  {
   "cell_type": "markdown",
   "id": "a2709fd9",
   "metadata": {},
   "source": [
    "## Setup\n",
    "Run these first. Assumes that PyTorch is already installed."
   ]
  },
  {
   "cell_type": "code",
   "execution_count": 22,
   "id": "3f1a7e4a",
   "metadata": {},
   "outputs": [],
   "source": [
    "!pip install -q datasets pillow\n",
    "# we need v4.26 of transformers - as of writing pip only provides up to v4.25\n",
    "!pip install -q git+https://github.com/huggingface/transformers\n",
    "print(\"--\\nDONE\")"
   ]
  },
  {
   "cell_type": "code",
   "execution_count": 10,
   "id": "8b6b1671",
   "metadata": {},
   "outputs": [],
   "source": [
    "import os\n",
    "import json\n",
    "import os\n",
    "import pathlib\n",
    "from typing import Generator\n",
    "\n",
    "def collect_captioned_images(root_folder: str) -> Generator[tuple[str,str], None, None]:\n",
    "    image_paths = []\n",
    "    captions = []\n",
    "    \n",
    "    for directory, _, filenames in os.walk(root_folder):\n",
    "        image_extensions = ['.jpg', '.jpeg']\n",
    "        image_filenames = [f for f in filenames if os.path.splitext(f)[1] in image_extensions]\n",
    "        for image_filename in image_filenames:\n",
    "            caption_filename = os.path.splitext(image_filename)[0] + '.txt'\n",
    "            caption_path = os.path.join(directory, caption_filename)\n",
    "            if not os.path.exists(caption_path):\n",
    "                continue\n",
    "\n",
    "            with open(caption_path, 'r') as f:\n",
    "                caption = f.read().replace('\\n', ' ')\n",
    "\n",
    "                image_path = os.path.join(directory, image_filename)\n",
    "                yield image_path, caption\n",
    "\n",
    "                \n",
    "def convert_text_image_pairs_to_huggingface_json(root_folder, out_json):\n",
    "    out_folder = os.path.dirname(root_folder)\n",
    "    pathlib.Path(out_folder).mkdir(parents=True, exist_ok=True)\n",
    "    with open(out_json, \"w\") as f:\n",
    "        written_count = 0\n",
    "        for image_path, caption in collect_captioned_images(root_folder):\n",
    "            line_dict = {\"image\":image_path, \"caption\":caption}\n",
    "            json_line = json.dumps(line_dict, indent=None, separators=(\",\",\":\"))\n",
    "            #print(json_line)\n",
    "            f.write(json_line + \"\\n\")\n",
    "            written_count += 1\n",
    "        print(f\"wrote {written_count} lines to {out_json}\")\n"
   ]
  },
  {
   "cell_type": "markdown",
   "id": "0d7a5604",
   "metadata": {},
   "source": [
    "## Convert the data folder of text/image pairs to a huggingface dataset-compatible json"
   ]
  },
  {
   "cell_type": "markdown",
   "id": "494c4c3c",
   "metadata": {},
   "source": [
    "Replace `root_folder` in the next cell with the top-level folder containing your images, and `out_json` with a path to where the json file representing the image/caption pairs in that folder should be saved.\n",
    "\n",
    "Note this only works with pairs of the form `filename.jpg`/`filename.txt` or `filename.jpeg`/`filename.txt`."
   ]
  },
  {
   "cell_type": "code",
   "execution_count": 25,
   "id": "9c6f16e3",
   "metadata": {},
   "outputs": [
    {
     "ename": "OSError",
     "evalue": "[Errno 30] Read-only file system: '/workspace'",
     "output_type": "error",
     "traceback": [
      "\u001b[0;31m---------------------------------------------------------------------------\u001b[0m",
      "\u001b[0;31mOSError\u001b[0m                                   Traceback (most recent call last)",
      "Cell \u001b[0;32mIn[25], line 3\u001b[0m\n\u001b[1;32m      1\u001b[0m root_folder \u001b[38;5;241m=\u001b[39m \u001b[38;5;124m\"\u001b[39m\u001b[38;5;124m/workspace/training_data\u001b[39m\u001b[38;5;124m\"\u001b[39m\n\u001b[1;32m      2\u001b[0m out_json \u001b[38;5;241m=\u001b[39m \u001b[38;5;124m\"\u001b[39m\u001b[38;5;124m/workspace/training_data.json\u001b[39m\u001b[38;5;124m\"\u001b[39m\n\u001b[0;32m----> 3\u001b[0m \u001b[43mconvert_text_image_pairs_to_huggingface_json\u001b[49m\u001b[43m(\u001b[49m\u001b[43mroot_folder\u001b[49m\u001b[43m,\u001b[49m\u001b[43m \u001b[49m\u001b[43mout_json\u001b[49m\u001b[43m)\u001b[49m\n",
      "Cell \u001b[0;32mIn[10], line 29\u001b[0m, in \u001b[0;36mconvert_text_image_pairs_to_huggingface_json\u001b[0;34m(root_folder, out_json)\u001b[0m\n\u001b[1;32m     27\u001b[0m \u001b[38;5;28;01mdef\u001b[39;00m \u001b[38;5;21mconvert_text_image_pairs_to_huggingface_json\u001b[39m(root_folder, out_json):\n\u001b[1;32m     28\u001b[0m     out_folder \u001b[38;5;241m=\u001b[39m os\u001b[38;5;241m.\u001b[39mpath\u001b[38;5;241m.\u001b[39mdirname(root_folder)\n\u001b[0;32m---> 29\u001b[0m     \u001b[43mpathlib\u001b[49m\u001b[38;5;241;43m.\u001b[39;49m\u001b[43mPath\u001b[49m\u001b[43m(\u001b[49m\u001b[43mout_folder\u001b[49m\u001b[43m)\u001b[49m\u001b[38;5;241;43m.\u001b[39;49m\u001b[43mmkdir\u001b[49m\u001b[43m(\u001b[49m\u001b[43mparents\u001b[49m\u001b[38;5;241;43m=\u001b[39;49m\u001b[38;5;28;43;01mTrue\u001b[39;49;00m\u001b[43m,\u001b[49m\u001b[43m \u001b[49m\u001b[43mexist_ok\u001b[49m\u001b[38;5;241;43m=\u001b[39;49m\u001b[38;5;28;43;01mTrue\u001b[39;49;00m\u001b[43m)\u001b[49m\n\u001b[1;32m     30\u001b[0m     \u001b[38;5;28;01mwith\u001b[39;00m \u001b[38;5;28mopen\u001b[39m(out_json, \u001b[38;5;124m\"\u001b[39m\u001b[38;5;124mw\u001b[39m\u001b[38;5;124m\"\u001b[39m) \u001b[38;5;28;01mas\u001b[39;00m f:\n\u001b[1;32m     31\u001b[0m         written_count \u001b[38;5;241m=\u001b[39m \u001b[38;5;241m0\u001b[39m\n",
      "File \u001b[0;32m/opt/homebrew/Cellar/python@3.10/3.10.9/Frameworks/Python.framework/Versions/3.10/lib/python3.10/pathlib.py:1175\u001b[0m, in \u001b[0;36mPath.mkdir\u001b[0;34m(self, mode, parents, exist_ok)\u001b[0m\n\u001b[1;32m   1171\u001b[0m \u001b[38;5;250m\u001b[39m\u001b[38;5;124;03m\"\"\"\u001b[39;00m\n\u001b[1;32m   1172\u001b[0m \u001b[38;5;124;03mCreate a new directory at this given path.\u001b[39;00m\n\u001b[1;32m   1173\u001b[0m \u001b[38;5;124;03m\"\"\"\u001b[39;00m\n\u001b[1;32m   1174\u001b[0m \u001b[38;5;28;01mtry\u001b[39;00m:\n\u001b[0;32m-> 1175\u001b[0m     \u001b[38;5;28;43mself\u001b[39;49m\u001b[38;5;241;43m.\u001b[39;49m\u001b[43m_accessor\u001b[49m\u001b[38;5;241;43m.\u001b[39;49m\u001b[43mmkdir\u001b[49m\u001b[43m(\u001b[49m\u001b[38;5;28;43mself\u001b[39;49m\u001b[43m,\u001b[49m\u001b[43m \u001b[49m\u001b[43mmode\u001b[49m\u001b[43m)\u001b[49m\n\u001b[1;32m   1176\u001b[0m \u001b[38;5;28;01mexcept\u001b[39;00m \u001b[38;5;167;01mFileNotFoundError\u001b[39;00m:\n\u001b[1;32m   1177\u001b[0m     \u001b[38;5;28;01mif\u001b[39;00m \u001b[38;5;129;01mnot\u001b[39;00m parents \u001b[38;5;129;01mor\u001b[39;00m \u001b[38;5;28mself\u001b[39m\u001b[38;5;241m.\u001b[39mparent \u001b[38;5;241m==\u001b[39m \u001b[38;5;28mself\u001b[39m:\n",
      "\u001b[0;31mOSError\u001b[0m: [Errno 30] Read-only file system: '/workspace'"
     ]
    }
   ],
   "source": [
    "root_folder = \"/workspace/clip_finetuning_train_data\"\n",
    "out_json = \"/workspace/clip_finetuning_train_data.json\"\n",
    "convert_text_image_pairs_to_huggingface_json(root_folder, out_json)\n"
   ]
  },
  {
   "cell_type": "markdown",
   "id": "bacf2094",
   "metadata": {},
   "source": [
    "Test that it worked by running the following cell:"
   ]
  },
  {
   "cell_type": "code",
   "execution_count": null,
   "id": "f3e42ee0",
   "metadata": {},
   "outputs": [],
   "source": [
    "# test loading it back in\n",
    "from datasets import load_dataset\n",
    "dataset = load_dataset(\"json\", data_files=out_json)\n",
    "print(f\"first image: {dataset['train'][0]['image']}, caption: '{dataset['train'][0]['caption']}'\")"
   ]
  },
  {
   "cell_type": "markdown",
   "id": "f505896e",
   "metadata": {},
   "source": [
    "## Run the finetuning\n",
    "\n",
    "### Configuration\n",
    "\n",
    "`repo_id` - The starting point for finetuning. By default this uses the `openai/clip-vit-large-patch14-336` pre-trained CLIP weights. This is what Stable Diffusion versions up to 1.5 used. Another option you might want to consider is `laion/CLIP-ViT-H-14-laion2B-s32B-b79K`, which was used for Stable Diffusion 2.0 onwards.\n",
    "\n",
    "`output_folder` - Where to store the output. The saving process writes multiple files to this folder, so it should be empty.\n",
    "\n",
    "`batch_size` - Training batch size. Don't go lower than 8 - try 32 or 64 (unless you only have a few images).\n",
    "\n",
    "`num_train_epochs` - How many epochs to train. With <500 images each epoch on a 3090 takes a few minutes - do a small number and check the loss before increasing."
   ]
  },
  {
   "cell_type": "code",
   "execution_count": 16,
   "id": "bbb7b053",
   "metadata": {
    "tags": []
   },
   "outputs": [],
   "source": [
    "repo_id =  \"openai/clip-vit-large-patch14-336\"\n",
    "output_folder = \"/workspace/output/clip-finetuned\"\n",
    "batch_size = 8\n",
    "num_train_epochs = 3"
   ]
  },
  {
   "cell_type": "markdown",
   "id": "210ac25f",
   "metadata": {},
   "source": [
    "### Run it"
   ]
  },
  {
   "cell_type": "code",
   "execution_count": 26,
   "id": "cb2e1fef",
   "metadata": {
    "scrolled": false
   },
   "outputs": [
    {
     "name": "stdout",
     "output_type": "stream",
     "text": [
      "Finetuning openai/clip-vit-large-patch14-336 for 3 epochs with batch size 8, and then saving output to /workspace/output/clip-finetuned.\n",
      "01/06/2023 19:34:02 - WARNING - __main__ - Process rank: -1, device: cpu, n_gpu: 0distributed training: False, 16-bits training: False\n",
      "01/06/2023 19:34:02 - INFO - __main__ - Training/evaluation parameters TrainingArguments(\n",
      "_n_gpu=0,\n",
      "adafactor=False,\n",
      "adam_beta1=0.9,\n",
      "adam_beta2=0.999,\n",
      "adam_epsilon=1e-08,\n",
      "auto_find_batch_size=False,\n",
      "bf16=False,\n",
      "bf16_full_eval=False,\n",
      "data_seed=None,\n",
      "dataloader_drop_last=False,\n",
      "dataloader_num_workers=0,\n",
      "dataloader_pin_memory=True,\n",
      "ddp_bucket_cap_mb=None,\n",
      "ddp_find_unused_parameters=None,\n",
      "ddp_timeout=1800,\n",
      "debug=[],\n",
      "deepspeed=None,\n",
      "disable_tqdm=False,\n",
      "do_eval=False,\n",
      "do_predict=False,\n",
      "do_train=True,\n",
      "eval_accumulation_steps=None,\n",
      "eval_delay=0,\n",
      "eval_steps=None,\n",
      "evaluation_strategy=no,\n",
      "fp16=False,\n",
      "fp16_backend=auto,\n",
      "fp16_full_eval=False,\n",
      "fp16_opt_level=O1,\n",
      "fsdp=[],\n",
      "fsdp_min_num_params=0,\n",
      "fsdp_transformer_layer_cls_to_wrap=None,\n",
      "full_determinism=False,\n",
      "gradient_accumulation_steps=1,\n",
      "gradient_checkpointing=False,\n",
      "greater_is_better=None,\n",
      "group_by_length=False,\n",
      "half_precision_backend=auto,\n",
      "hub_model_id=None,\n",
      "hub_private_repo=False,\n",
      "hub_strategy=every_save,\n",
      "hub_token=<HUB_TOKEN>,\n",
      "ignore_data_skip=False,\n",
      "include_inputs_for_metrics=False,\n",
      "jit_mode_eval=False,\n",
      "label_names=None,\n",
      "label_smoothing_factor=0.0,\n",
      "learning_rate=5e-05,\n",
      "length_column_name=length,\n",
      "load_best_model_at_end=False,\n",
      "local_rank=-1,\n",
      "log_level=passive,\n",
      "log_level_replica=passive,\n",
      "log_on_each_node=True,\n",
      "logging_dir=/workspace/output/clip-finetuned/runs/Jan06_19-34-01_d-mba2.local,\n",
      "logging_first_step=False,\n",
      "logging_nan_inf_filter=True,\n",
      "logging_steps=500,\n",
      "logging_strategy=steps,\n",
      "lr_scheduler_type=linear,\n",
      "max_grad_norm=1.0,\n",
      "max_steps=-1,\n",
      "metric_for_best_model=None,\n",
      "mp_parameters=,\n",
      "no_cuda=False,\n",
      "num_train_epochs=3.0,\n",
      "optim=adamw_hf,\n",
      "optim_args=None,\n",
      "output_dir=/workspace/output/clip-finetuned,\n",
      "overwrite_output_dir=True,\n",
      "past_index=-1,\n",
      "per_device_eval_batch_size=8,\n",
      "per_device_train_batch_size=8,\n",
      "prediction_loss_only=False,\n",
      "push_to_hub=False,\n",
      "push_to_hub_model_id=None,\n",
      "push_to_hub_organization=None,\n",
      "push_to_hub_token=<PUSH_TO_HUB_TOKEN>,\n",
      "ray_scope=last,\n",
      "remove_unused_columns=False,\n",
      "report_to=[],\n",
      "resume_from_checkpoint=None,\n",
      "run_name=/workspace/output/clip-finetuned,\n",
      "save_on_each_node=False,\n",
      "save_steps=500,\n",
      "save_strategy=steps,\n",
      "save_total_limit=None,\n",
      "seed=42,\n",
      "sharded_ddp=[],\n",
      "skip_memory_metrics=True,\n",
      "tf32=None,\n",
      "torch_compile=False,\n",
      "torch_compile_backend=None,\n",
      "torch_compile_mode=None,\n",
      "torchdynamo=None,\n",
      "tpu_metrics_debug=False,\n",
      "tpu_num_cores=None,\n",
      "use_ipex=False,\n",
      "use_legacy_prediction_loop=False,\n",
      "use_mps_device=False,\n",
      "warmup_ratio=0.0,\n",
      "warmup_steps=0,\n",
      "weight_decay=0.1,\n",
      "xpu_backend=None,\n",
      ")\n",
      "Traceback (most recent call last):\n",
      "  File \"/Users/damian/2.current/train-clip-huggingface/huggingface_train_clip.py\", line 537, in <module>\n",
      "    main()\n",
      "  File \"/Users/damian/2.current/train-clip-huggingface/huggingface_train_clip.py\", line 307, in main\n",
      "    dataset = load_dataset(\n",
      "  File \"/Users/damian/miniforge3/envs/train-clip-huggingface/lib/python3.10/site-packages/datasets/load.py\", line 1734, in load_dataset\n",
      "    builder_instance = load_dataset_builder(\n",
      "  File \"/Users/damian/miniforge3/envs/train-clip-huggingface/lib/python3.10/site-packages/datasets/load.py\", line 1492, in load_dataset_builder\n",
      "    dataset_module = dataset_module_factory(\n",
      "  File \"/Users/damian/miniforge3/envs/train-clip-huggingface/lib/python3.10/site-packages/datasets/load.py\", line 1134, in dataset_module_factory\n",
      "    ).get_module()\n",
      "  File \"/Users/damian/miniforge3/envs/train-clip-huggingface/lib/python3.10/site-packages/datasets/load.py\", line 707, in get_module\n",
      "    data_files = DataFilesDict.from_local_or_remote(\n",
      "  File \"/Users/damian/miniforge3/envs/train-clip-huggingface/lib/python3.10/site-packages/datasets/data_files.py\", line 796, in from_local_or_remote\n",
      "    DataFilesList.from_local_or_remote(\n",
      "  File \"/Users/damian/miniforge3/envs/train-clip-huggingface/lib/python3.10/site-packages/datasets/data_files.py\", line 764, in from_local_or_remote\n",
      "    data_files = resolve_patterns_locally_or_by_urls(base_path, patterns, allowed_extensions)\n",
      "  File \"/Users/damian/miniforge3/envs/train-clip-huggingface/lib/python3.10/site-packages/datasets/data_files.py\", line 362, in resolve_patterns_locally_or_by_urls\n",
      "    for path in _resolve_single_pattern_locally(base_path, pattern, allowed_extensions):\n",
      "  File \"/Users/damian/miniforge3/envs/train-clip-huggingface/lib/python3.10/site-packages/datasets/data_files.py\", line 306, in _resolve_single_pattern_locally\n",
      "    raise FileNotFoundError(error_msg)\n",
      "FileNotFoundError: Unable to find '/workspace/training_data.json' at /\n"
     ]
    }
   ],
   "source": [
    "print(f\"Finetuning {repo_id} for {num_train_epochs} epochs with batch size {batch_size}, and then saving output to {output_folder}.\")\n",
    "!python huggingface_train_clip.py \\\n",
    "    --output_dir {output_folder} \\\n",
    "    --model_name_or_path {repo_id} \\\n",
    "    --train_file {out_json} \\\n",
    "    --image_column image \\\n",
    "    --overwrite_output_dir=True \\\n",
    "    --max_seq_length=77 \\\n",
    "    --num_train_epochs={num_train_epochs} \\\n",
    "    --caption_column caption \\\n",
    "    --remove_unused_columns=False \\\n",
    "    --do_train \\\n",
    "    --per_device_train_batch_size={batch_size} \\\n",
    "    --learning_rate=\"5e-5\" --warmup_steps=\"0\" --weight_decay 0.1 "
   ]
  },
  {
   "cell_type": "code",
   "execution_count": null,
   "id": "4755ae04",
   "metadata": {},
   "outputs": [],
   "source": []
  }
 ],
 "metadata": {
  "kernelspec": {
   "display_name": "Python 3 (ipykernel)",
   "language": "python",
   "name": "python3"
  },
  "language_info": {
   "codemirror_mode": {
    "name": "ipython",
    "version": 3
   },
   "file_extension": ".py",
   "mimetype": "text/x-python",
   "name": "python",
   "nbconvert_exporter": "python",
   "pygments_lexer": "ipython3",
   "version": "3.10.9"
  }
 },
 "nbformat": 4,
 "nbformat_minor": 5
}
